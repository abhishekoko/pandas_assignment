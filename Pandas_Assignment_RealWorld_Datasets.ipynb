{
 "cells": [
  {
   "cell_type": "markdown",
   "id": "74f9e2a7",
   "metadata": {},
   "source": [
    "#Pandas Assignment"
   ]
  },
  {
   "cell_type": "code",
   "execution_count": null,
   "id": "e83d7285",
   "metadata": {},
   "outputs": [],
   "source": [
    "#PART 1: Netflix Movies and TV Shows\n",
    "import pandas as pd\n",
    "\n",
    "df = pd.read_csv('netflix_titles.csv')\n",
    "print(df.head())\n",
    "print(df.tail())\n",
    "print(df.shape)\n",
    "print(df['country'].nunique())\n",
    "print(df[df['type'] == 'TV Show'])\n",
    "df['date_added'] = pd.to_datetime(df['date_added'])\n",
    "df['year_added'] = df['date_added'].dt.year\n",
    "df['month_added'] = df['date_added'].dt.month\n",
    "print(df[df['release_year'] == 2019].shape[0])\n",
    "print(df['rating'].value_counts())\n"
   ]
  },
  {
   "cell_type": "code",
   "execution_count": null,
   "id": "03531521",
   "metadata": {},
   "outputs": [],
   "source": [
    "#PART 2: World Population Dataset\n",
    "df = pd.read_csv('world_population.csv')\n",
    "print(df.head(10))\n",
    "print(df.isnull().sum())\n",
    "df = df.fillna(0)\n",
    "print(df.sort_values(by='2022 Population', ascending=False).head(5)[['Country', '2022 Population']])\n",
    "df['GDP per Capita'] = df['GDP'] / df['2022 Population']\n",
    "filtered = df[(df['2022 Population'] > 1e8) & (df['Area (km²)'] < 500000)]\n",
    "print(filtered)\n",
    "print(df.sort_values(by='Density (per km²)', ascending=False))\n"
   ]
  },
  {
   "cell_type": "code",
   "execution_count": null,
   "id": "92434f55",
   "metadata": {},
   "outputs": [],
   "source": [
    "#PART 3: Indian Premier League (IPL) Dataset\n",
    "matches = pd.read_csv('matches.csv')\n",
    "deliveries = pd.read_csv('deliveries.csv')\n",
    "\n",
    "print(matches['winner'].value_counts().idxmax())\n",
    "print(matches['season'].value_counts())\n",
    "print(matches['player_of_match'].value_counts().head(5))\n",
    "merged = pd.merge(deliveries, matches, on='match_id')\n",
    "print(merged.head())\n"
   ]
  },
  {
   "cell_type": "code",
   "execution_count": null,
   "id": "25d029ae",
   "metadata": {},
   "outputs": [],
   "source": [
    "#PART 4: Students Performance\n",
    "df = pd.read_csv('StudentsPerformance.csv')\n",
    "print(df[['math score', 'reading score', 'writing score']].mean())\n",
    "print(df.groupby('gender')['writing score'].mean())\n",
    "df['total'] = df[['math score', 'reading score', 'writing score']].sum(axis=1)\n",
    "df['percentage'] = df['total'] / 3\n",
    "df.groupby('parental level of education')[['math score', 'reading score', 'writing score']].mean().plot(kind='bar')\n",
    "\n",
    "import matplotlib.pyplot as plt\n",
    "plt.show()\n",
    "\n",
    "print(df[(df['percentage'] > 90)])\n"
   ]
  },
  {
   "cell_type": "code",
   "execution_count": null,
   "id": "9d77a452",
   "metadata": {},
   "outputs": [],
   "source": [
    "#PART 5: Flight Price Prediction Dataset\n",
    "df = pd.read_csv('flight_price.csv')\n",
    "print(df.info())\n",
    "print(df.describe())\n",
    "df['Date_of_Journey'] = pd.to_datetime(df['Date_of_Journey'], dayfirst=True)\n",
    "df['Journey_Day'] = df['Date_of_Journey'].dt.day\n",
    "df['Journey_Month'] = df['Date_of_Journey'].dt.month\n",
    "print(df['Airline'].value_counts().idxmax())\n",
    "print(df['Source'].value_counts().idxmax())\n",
    "df.drop_duplicates(inplace=True)\n",
    "df.fillna(method='ffill', inplace=True)\n"
   ]
  }
 ],
 "metadata": {
  "language_info": {
   "name": "python"
  }
 },
 "nbformat": 4,
 "nbformat_minor": 5
}
